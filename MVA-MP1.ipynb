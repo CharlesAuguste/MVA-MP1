{
 "cells": [
  {
   "cell_type": "code",
   "execution_count": 1,
   "metadata": {},
   "outputs": [
    {
     "data": {
      "image/png": "[encoded data removed]",
      "text/plain": [
       "<Figure size 432x288 with 1 Axes>"
      ]
     },
     "metadata": {
      "needs_background": "light"
     },
     "output_type": "display_data"
    }
   ],
   "source": [
    "import matplotlib.pyplot as plt\n",
    "%matplotlib inline\n",
    "import numpy as np\n",
    "\n",
    "# On some implementations of matplotlib, you may need to change this value\n",
    "IMAGE_SIZE = 72\n",
    "\n",
    "def generate_a_drawing(figsize, U, V, noise=0.0):\n",
    "    fig = plt.figure(figsize=(figsize,figsize))\n",
    "    ax = plt.subplot(111)\n",
    "    plt.axis('Off')\n",
    "    ax.set_xlim(0,figsize)\n",
    "    ax.set_ylim(0,figsize)\n",
    "    ax.fill(U, V, \"k\")\n",
    "    fig.canvas.draw()\n",
    "    imdata = np.frombuffer(fig.canvas.tostring_rgb(), dtype=np.uint8)[::3].astype(np.float32)\n",
    "    imdata = imdata + noise * np.random.random(imdata.size)\n",
    "    plt.close(fig)\n",
    "    return imdata\n",
    "\n",
    "def generate_a_rectangle(noise=0.0, free_location=False):\n",
    "    figsize = 1.0    \n",
    "    U = np.zeros(4)\n",
    "    V = np.zeros(4)\n",
    "    if free_location:\n",
    "        corners = np.random.random(4)\n",
    "        top = max(corners[0], corners[1])\n",
    "        bottom = min(corners[0], corners[1])\n",
    "        left = min(corners[2], corners[3])\n",
    "        right = max(corners[2], corners[3])\n",
    "    else:\n",
    "        side = (0.3 + 0.7 * np.random.random()) * figsize\n",
    "        top = figsize/2 + side/2\n",
    "        bottom = figsize/2 - side/2\n",
    "        left = bottom\n",
    "        right = top\n",
    "    U[0] = U[1] = top\n",
    "    U[2] = U[3] = bottom\n",
    "    V[0] = V[3] = left\n",
    "    V[1] = V[2] = right\n",
    "    return generate_a_drawing(figsize, U, V, noise)\n",
    "\n",
    "\n",
    "def generate_a_disk(noise=0.0, free_location=False):\n",
    "    figsize = 1.0\n",
    "    if free_location:\n",
    "        center = np.random.random(2)\n",
    "    else:\n",
    "        center = (figsize/2, figsize/2)\n",
    "    radius = (0.3 + 0.7 * np.random.random()) * figsize/2\n",
    "    N = 50\n",
    "    U = np.zeros(N)\n",
    "    V = np.zeros(N)\n",
    "    i = 0\n",
    "    for t in np.linspace(0, 2*np.pi, N):\n",
    "        U[i] = center[0] + np.cos(t) * radius\n",
    "        V[i] = center[1] + np.sin(t) * radius\n",
    "        i = i + 1\n",
    "    return generate_a_drawing(figsize, U, V, noise)\n",
    "\n",
    "def generate_a_triangle(noise=0.0, free_location=False):\n",
    "    figsize = 1.0\n",
    "    if free_location:\n",
    "        U = np.random.random(3)\n",
    "        V = np.random.random(3)\n",
    "    else:\n",
    "        size = (0.3 + 0.7 * np.random.random())*figsize/2\n",
    "        middle = figsize/2\n",
    "        U = (middle, middle+size, middle-size)\n",
    "        V = (middle+size, middle-size, middle-size)\n",
    "    imdata = generate_a_drawing(figsize, U, V, noise)\n",
    "    return [imdata, [U[0], V[0], U[1], V[1], U[2], V[2]]]\n",
    "\n",
    "\n",
    "im = generate_a_rectangle(10, True)\n",
    "plt.imshow(im.reshape(IMAGE_SIZE,IMAGE_SIZE), cmap='gray')\n",
    "\n",
    "im = generate_a_disk(10)\n",
    "plt.imshow(im.reshape(IMAGE_SIZE,IMAGE_SIZE), cmap='gray')\n",
    "\n",
    "[im, v] = generate_a_triangle(20, False)\n",
    "plt.imshow(im.reshape(IMAGE_SIZE,IMAGE_SIZE), cmap='gray')\n",
    "\n",
    "\n",
    "def generate_dataset_classification(nb_samples, noise=0.0, free_location=False):\n",
    "    # Getting im_size:\n",
    "    im_size = generate_a_rectangle().shape[0]\n",
    "    X = np.zeros([nb_samples,im_size])\n",
    "    Y = np.zeros(nb_samples)\n",
    "    print('Creating data:')\n",
    "    for i in range(nb_samples):\n",
    "        if i % 10 == 0:\n",
    "            print(i)\n",
    "        category = np.random.randint(3)\n",
    "        if category == 0:\n",
    "            X[i] = generate_a_rectangle(noise, free_location)\n",
    "        elif category == 1: \n",
    "            X[i] = generate_a_disk(noise, free_location)\n",
    "        else:\n",
    "            [X[i], V] = generate_a_triangle(noise, free_location)\n",
    "        Y[i] = category\n",
    "    X = (X + noise) / (255 + 2 * noise)\n",
    "    return [X, Y]\n",
    "\n",
    "def generate_test_set_classification():\n",
    "    np.random.seed(42)\n",
    "    [X_test, Y_test] = generate_dataset_classification(300, 20, True)\n",
    "    Y_test = np_utils.to_categorical(Y_test, 3) \n",
    "    return [X_test, Y_test]\n",
    "\n",
    "def generate_dataset_regression(nb_samples, noise=0.0):\n",
    "    # Getting im_size:\n",
    "    im_size = generate_a_triangle()[0].shape[0]\n",
    "    X = np.zeros([nb_samples,im_size])\n",
    "    Y = np.zeros([nb_samples, 6])\n",
    "    print('Creating data:')\n",
    "    for i in range(nb_samples):\n",
    "        if i % 10 == 0:\n",
    "            print(i)\n",
    "        [X[i], Y[i]] = generate_a_triangle(noise, True)\n",
    "    X = (X + noise) / (255 + 2 * noise)\n",
    "    return [X, Y]\n",
    "\n",
    "import matplotlib.patches as patches\n",
    "\n",
    "def visualize_prediction(x, y):\n",
    "    fig, ax = plt.subplots(figsize=(5, 5))\n",
    "    I = x.reshape((IMAGE_SIZE,IMAGE_SIZE))\n",
    "    ax.imshow(I, extent=[-0.15,1.15,-0.15,1.15],cmap='gray')\n",
    "    ax.set_xlim([0,1])\n",
    "    ax.set_ylim([0,1])\n",
    "\n",
    "    xy = y.reshape(3,2)\n",
    "    tri = patches.Polygon(xy, closed=True, fill = False, edgecolor = 'r', linewidth = 5, alpha = 0.5)\n",
    "    ax.add_patch(tri)\n",
    "\n",
    "    plt.show()\n",
    "\n",
    "def generate_test_set_regression():\n",
    "    np.random.seed(42)\n",
    "    [X_test, Y_test] = generate_dataset_regression(300, 20)\n",
    "    return [X_test, Y_test]\n",
    "\n"
   ]
  },
  {
   "cell_type": "code",
   "execution_count": null,
   "metadata": {},
   "outputs": [],
   "source": []
  },
  {
   "cell_type": "markdown",
   "metadata": {},
   "source": [
    "# Part 3 Simple classification"
   ]
  },
  {
   "cell_type": "code",
   "execution_count": 361,
   "metadata": {},
   "outputs": [],
   "source": [
    "from keras.models import Sequential\n",
    "from keras.layers import Dense, Activation\n",
    "from keras import optimizers\n",
    "from keras import utils\n",
    "from keras.wrappers.scikit_learn import KerasClassifier"
   ]
  },
  {
   "cell_type": "code",
   "execution_count": 2,
   "metadata": {},
   "outputs": [
    {
     "name": "stdout",
     "output_type": "stream",
     "text": [
      "Creating data:\n",
      "0\n",
      "10\n",
      "20\n",
      "30\n",
      "40\n",
      "50\n",
      "60\n",
      "70\n",
      "80\n",
      "90\n",
      "100\n",
      "110\n",
      "120\n",
      "130\n",
      "140\n",
      "150\n",
      "160\n",
      "170\n",
      "180\n",
      "190\n",
      "200\n",
      "210\n",
      "220\n",
      "230\n",
      "240\n",
      "250\n",
      "260\n",
      "270\n",
      "280\n",
      "290\n"
     ]
    }
   ],
   "source": [
    "# We create the dataaset\n",
    "[X_train, Y_train] = generate_dataset_classification(300, 20)"
   ]
  },
  {
   "cell_type": "markdown",
   "metadata": {},
   "source": [
    "### Stochastic gradient optimizer"
   ]
  },
  {
   "cell_type": "code",
   "execution_count": 375,
   "metadata": {},
   "outputs": [
    {
     "name": "stdout",
     "output_type": "stream",
     "text": [
      "Train on 270 samples, validate on 30 samples\n",
      "Epoch 1/100\n",
      "270/270 [==============================] - 2s 9ms/step - loss: 5.1203 - acc: 0.3370 - val_loss: 4.0267 - val_acc: 0.2333\n",
      "Epoch 2/100\n",
      "270/270 [==============================] - 0s 75us/step - loss: 3.8524 - acc: 0.3815 - val_loss: 3.8943 - val_acc: 0.6000\n",
      "Epoch 3/100\n",
      "270/270 [==============================] - 0s 68us/step - loss: 4.3327 - acc: 0.3667 - val_loss: 3.8887 - val_acc: 0.7333\n",
      "Epoch 4/100\n",
      "270/270 [==============================] - 0s 73us/step - loss: 2.4782 - acc: 0.5667 - val_loss: 2.7672 - val_acc: 0.6333\n",
      "Epoch 5/100\n",
      "270/270 [==============================] - 0s 71us/step - loss: 2.8802 - acc: 0.5148 - val_loss: 0.8660 - val_acc: 0.7333\n",
      "Epoch 6/100\n",
      "270/270 [==============================] - 0s 68us/step - loss: 1.7444 - acc: 0.5630 - val_loss: 0.2380 - val_acc: 0.9000\n",
      "Epoch 7/100\n",
      "270/270 [==============================] - 0s 72us/step - loss: 1.4831 - acc: 0.6556 - val_loss: 2.5679 - val_acc: 0.7333\n",
      "Epoch 8/100\n",
      "270/270 [==============================] - 0s 75us/step - loss: 1.7216 - acc: 0.6556 - val_loss: 1.0933 - val_acc: 0.8000\n",
      "Epoch 9/100\n",
      "270/270 [==============================] - 0s 65us/step - loss: 1.3510 - acc: 0.6778 - val_loss: 0.4744 - val_acc: 0.8333\n",
      "Epoch 10/100\n",
      "270/270 [==============================] - 0s 68us/step - loss: 1.6501 - acc: 0.6148 - val_loss: 0.7232 - val_acc: 0.7333\n",
      "Epoch 11/100\n",
      "270/270 [==============================] - 0s 64us/step - loss: 0.9015 - acc: 0.7519 - val_loss: 0.7014 - val_acc: 0.7667\n",
      "Epoch 12/100\n",
      "270/270 [==============================] - 0s 67us/step - loss: 1.1478 - acc: 0.6963 - val_loss: 0.2567 - val_acc: 0.9000\n",
      "Epoch 13/100\n",
      "270/270 [==============================] - 0s 66us/step - loss: 0.7602 - acc: 0.7519 - val_loss: 2.8486 - val_acc: 0.5000\n",
      "Epoch 14/100\n",
      "270/270 [==============================] - 0s 63us/step - loss: 0.9402 - acc: 0.7481 - val_loss: 0.6390 - val_acc: 0.8333\n",
      "Epoch 15/100\n",
      "270/270 [==============================] - 0s 67us/step - loss: 0.7580 - acc: 0.7037 - val_loss: 0.2049 - val_acc: 0.9000\n",
      "Epoch 16/100\n",
      "270/270 [==============================] - 0s 69us/step - loss: 1.5335 - acc: 0.7000 - val_loss: 0.2066 - val_acc: 0.8667\n",
      "Epoch 17/100\n",
      "270/270 [==============================] - 0s 71us/step - loss: 0.3302 - acc: 0.8593 - val_loss: 0.4020 - val_acc: 0.8667\n",
      "Epoch 18/100\n",
      "270/270 [==============================] - 0s 71us/step - loss: 1.4328 - acc: 0.6111 - val_loss: 0.1920 - val_acc: 0.9333\n",
      "Epoch 19/100\n",
      "270/270 [==============================] - 0s 64us/step - loss: 0.9074 - acc: 0.7556 - val_loss: 1.1791 - val_acc: 0.7333\n",
      "Epoch 20/100\n",
      "270/270 [==============================] - 0s 70us/step - loss: 0.7117 - acc: 0.8148 - val_loss: 0.3665 - val_acc: 0.8667\n",
      "Epoch 21/100\n",
      "270/270 [==============================] - 0s 69us/step - loss: 0.8764 - acc: 0.7370 - val_loss: 0.1140 - val_acc: 0.9667\n",
      "Epoch 22/100\n",
      "270/270 [==============================] - 0s 64us/step - loss: 0.3485 - acc: 0.8481 - val_loss: 2.0093 - val_acc: 0.6333\n",
      "Epoch 23/100\n",
      "270/270 [==============================] - 0s 64us/step - loss: 0.6648 - acc: 0.8148 - val_loss: 1.0045 - val_acc: 0.6333\n",
      "Epoch 24/100\n",
      "270/270 [==============================] - 0s 70us/step - loss: 0.9803 - acc: 0.7444 - val_loss: 0.2633 - val_acc: 0.9000\n",
      "Epoch 25/100\n",
      "270/270 [==============================] - 0s 67us/step - loss: 0.2270 - acc: 0.9333 - val_loss: 0.1121 - val_acc: 0.9333\n",
      "Epoch 26/100\n",
      "270/270 [==============================] - 0s 67us/step - loss: 0.4722 - acc: 0.8778 - val_loss: 0.5243 - val_acc: 0.8333\n",
      "Epoch 27/100\n",
      "270/270 [==============================] - 0s 69us/step - loss: 0.2350 - acc: 0.9481 - val_loss: 0.1059 - val_acc: 0.9667\n",
      "Epoch 28/100\n",
      "270/270 [==============================] - 0s 71us/step - loss: 0.5225 - acc: 0.8185 - val_loss: 1.3444 - val_acc: 0.7667\n",
      "Epoch 29/100\n",
      "270/270 [==============================] - 0s 72us/step - loss: 0.4628 - acc: 0.8630 - val_loss: 0.1449 - val_acc: 0.9333\n",
      "Epoch 30/100\n",
      "270/270 [==============================] - 0s 71us/step - loss: 0.5297 - acc: 0.7963 - val_loss: 0.4183 - val_acc: 0.8333\n",
      "Epoch 31/100\n",
      "270/270 [==============================] - 0s 78us/step - loss: 0.5785 - acc: 0.8185 - val_loss: 0.6440 - val_acc: 0.8667\n",
      "Epoch 32/100\n",
      "270/270 [==============================] - 0s 71us/step - loss: 0.2791 - acc: 0.8889 - val_loss: 0.0792 - val_acc: 1.0000\n",
      "Epoch 33/100\n",
      "270/270 [==============================] - 0s 67us/step - loss: 0.1119 - acc: 0.9741 - val_loss: 0.1154 - val_acc: 0.9333\n",
      "Epoch 34/100\n",
      "270/270 [==============================] - 0s 70us/step - loss: 0.2225 - acc: 0.8926 - val_loss: 0.3556 - val_acc: 0.8667\n",
      "Epoch 35/100\n",
      "270/270 [==============================] - 0s 73us/step - loss: 0.3059 - acc: 0.9000 - val_loss: 0.1110 - val_acc: 0.9333\n",
      "Epoch 36/100\n",
      "270/270 [==============================] - 0s 68us/step - loss: 0.1569 - acc: 0.9222 - val_loss: 0.1817 - val_acc: 0.9333\n",
      "Epoch 37/100\n",
      "270/270 [==============================] - 0s 70us/step - loss: 0.1658 - acc: 0.9444 - val_loss: 0.0963 - val_acc: 0.9333\n",
      "Epoch 38/100\n",
      "270/270 [==============================] - 0s 61us/step - loss: 0.4369 - acc: 0.8222 - val_loss: 0.4026 - val_acc: 0.8667\n",
      "Epoch 39/100\n",
      "270/270 [==============================] - 0s 60us/step - loss: 0.2020 - acc: 0.9185 - val_loss: 0.8374 - val_acc: 0.6667\n",
      "Epoch 40/100\n",
      "270/270 [==============================] - 0s 66us/step - loss: 0.7920 - acc: 0.8148 - val_loss: 0.1743 - val_acc: 0.9333\n",
      "Epoch 41/100\n",
      "270/270 [==============================] - 0s 66us/step - loss: 0.1436 - acc: 0.9481 - val_loss: 0.1330 - val_acc: 0.9333\n",
      "Epoch 42/100\n",
      "270/270 [==============================] - 0s 63us/step - loss: 0.1917 - acc: 0.9111 - val_loss: 0.0685 - val_acc: 1.0000\n",
      "Epoch 43/100\n",
      "270/270 [==============================] - 0s 64us/step - loss: 0.1261 - acc: 0.9519 - val_loss: 0.4205 - val_acc: 0.8667\n",
      "Epoch 44/100\n",
      "270/270 [==============================] - 0s 69us/step - loss: 0.1377 - acc: 0.9556 - val_loss: 0.0851 - val_acc: 0.9667\n",
      "Epoch 45/100\n",
      "270/270 [==============================] - 0s 65us/step - loss: 0.0763 - acc: 0.9852 - val_loss: 0.0688 - val_acc: 1.0000\n",
      "Epoch 46/100\n",
      "270/270 [==============================] - 0s 63us/step - loss: 0.1204 - acc: 0.9593 - val_loss: 0.1136 - val_acc: 0.9333\n",
      "Epoch 47/100\n",
      "270/270 [==============================] - 0s 65us/step - loss: 0.1115 - acc: 0.9630 - val_loss: 0.0951 - val_acc: 0.9667\n",
      "Epoch 48/100\n",
      "270/270 [==============================] - 0s 63us/step - loss: 0.0831 - acc: 0.9815 - val_loss: 0.0641 - val_acc: 1.0000\n",
      "Epoch 49/100\n",
      "270/270 [==============================] - 0s 66us/step - loss: 0.0776 - acc: 0.9889 - val_loss: 0.0850 - val_acc: 0.9667\n",
      "Epoch 50/100\n",
      "270/270 [==============================] - 0s 70us/step - loss: 0.1162 - acc: 0.9593 - val_loss: 0.0697 - val_acc: 1.0000\n",
      "Epoch 51/100\n",
      "270/270 [==============================] - 0s 65us/step - loss: 0.0737 - acc: 0.9926 - val_loss: 0.0970 - val_acc: 0.9667\n",
      "Epoch 52/100\n",
      "270/270 [==============================] - 0s 61us/step - loss: 0.0886 - acc: 0.9815 - val_loss: 0.0613 - val_acc: 1.0000\n",
      "Epoch 53/100\n",
      "270/270 [==============================] - 0s 64us/step - loss: 0.0741 - acc: 0.9926 - val_loss: 0.0721 - val_acc: 0.9667\n",
      "Epoch 54/100\n",
      "270/270 [==============================] - 0s 73us/step - loss: 0.0884 - acc: 0.9778 - val_loss: 0.2127 - val_acc: 0.9333\n",
      "Epoch 55/100\n",
      "270/270 [==============================] - 0s 63us/step - loss: 0.0851 - acc: 0.9852 - val_loss: 0.1537 - val_acc: 0.9333\n",
      "Epoch 56/100\n",
      "270/270 [==============================] - 0s 63us/step - loss: 0.1527 - acc: 0.9296 - val_loss: 0.1823 - val_acc: 0.9333\n",
      "Epoch 57/100\n",
      "270/270 [==============================] - 0s 64us/step - loss: 0.0698 - acc: 0.9963 - val_loss: 0.0766 - val_acc: 0.9667\n",
      "Epoch 58/100\n",
      "270/270 [==============================] - 0s 66us/step - loss: 0.1011 - acc: 0.9556 - val_loss: 0.1183 - val_acc: 0.9333\n",
      "Epoch 59/100\n",
      "270/270 [==============================] - 0s 65us/step - loss: 0.1045 - acc: 0.9667 - val_loss: 0.0831 - val_acc: 0.9667\n",
      "Epoch 60/100\n",
      "270/270 [==============================] - 0s 62us/step - loss: 0.0763 - acc: 0.9889 - val_loss: 0.0630 - val_acc: 1.0000\n",
      "Epoch 61/100\n"
     ]
    },
    {
     "name": "stdout",
     "output_type": "stream",
     "text": [
      "270/270 [==============================] - 0s 64us/step - loss: 0.0717 - acc: 0.9963 - val_loss: 0.0610 - val_acc: 0.9667\n",
      "Epoch 62/100\n",
      "270/270 [==============================] - 0s 70us/step - loss: 0.0627 - acc: 0.9963 - val_loss: 0.0550 - val_acc: 1.0000\n",
      "Epoch 63/100\n",
      "270/270 [==============================] - 0s 62us/step - loss: 0.0916 - acc: 0.9704 - val_loss: 0.0939 - val_acc: 0.9667\n",
      "Epoch 64/100\n",
      "270/270 [==============================] - 0s 63us/step - loss: 0.0854 - acc: 0.9667 - val_loss: 0.0615 - val_acc: 1.0000\n",
      "Epoch 65/100\n",
      "270/270 [==============================] - 0s 61us/step - loss: 0.0930 - acc: 0.9778 - val_loss: 0.1315 - val_acc: 0.9333\n",
      "Epoch 66/100\n",
      "270/270 [==============================] - 0s 60us/step - loss: 0.1007 - acc: 0.9630 - val_loss: 0.0842 - val_acc: 0.9667\n",
      "Epoch 67/100\n",
      "270/270 [==============================] - 0s 58us/step - loss: 0.0642 - acc: 0.9852 - val_loss: 0.0551 - val_acc: 1.0000\n",
      "Epoch 68/100\n",
      "270/270 [==============================] - 0s 59us/step - loss: 0.0710 - acc: 0.9889 - val_loss: 0.0542 - val_acc: 1.0000\n",
      "Epoch 69/100\n",
      "270/270 [==============================] - 0s 66us/step - loss: 0.0876 - acc: 0.9815 - val_loss: 0.0681 - val_acc: 0.9667\n",
      "Epoch 70/100\n",
      "270/270 [==============================] - 0s 61us/step - loss: 0.0646 - acc: 0.9889 - val_loss: 0.0503 - val_acc: 1.0000\n",
      "Epoch 71/100\n",
      "270/270 [==============================] - 0s 58us/step - loss: 0.0636 - acc: 0.9815 - val_loss: 0.0564 - val_acc: 0.9667\n",
      "Epoch 72/100\n",
      "270/270 [==============================] - 0s 63us/step - loss: 0.0712 - acc: 0.9852 - val_loss: 0.0481 - val_acc: 1.0000\n",
      "Epoch 73/100\n",
      "270/270 [==============================] - 0s 62us/step - loss: 0.0605 - acc: 0.9926 - val_loss: 0.0526 - val_acc: 0.9667\n",
      "Epoch 74/100\n",
      "270/270 [==============================] - 0s 58us/step - loss: 0.0778 - acc: 0.9741 - val_loss: 0.1467 - val_acc: 0.9333\n",
      "Epoch 75/100\n",
      "270/270 [==============================] - 0s 61us/step - loss: 0.0847 - acc: 0.9815 - val_loss: 0.1291 - val_acc: 0.9333\n",
      "Epoch 76/100\n",
      "270/270 [==============================] - 0s 61us/step - loss: 0.0798 - acc: 0.9741 - val_loss: 0.0453 - val_acc: 1.0000\n",
      "Epoch 77/100\n",
      "270/270 [==============================] - 0s 62us/step - loss: 0.0559 - acc: 0.9926 - val_loss: 0.0451 - val_acc: 1.0000\n",
      "Epoch 78/100\n",
      "270/270 [==============================] - 0s 58us/step - loss: 0.0561 - acc: 0.9963 - val_loss: 0.1098 - val_acc: 0.9333\n",
      "Epoch 79/100\n",
      "270/270 [==============================] - 0s 61us/step - loss: 0.0709 - acc: 0.9889 - val_loss: 0.0903 - val_acc: 0.9667\n",
      "Epoch 80/100\n",
      "270/270 [==============================] - 0s 60us/step - loss: 0.0630 - acc: 0.9963 - val_loss: 0.0436 - val_acc: 1.0000\n",
      "Epoch 81/100\n",
      "270/270 [==============================] - 0s 62us/step - loss: 0.0636 - acc: 0.9926 - val_loss: 0.0489 - val_acc: 1.0000\n",
      "Epoch 82/100\n",
      "270/270 [==============================] - 0s 59us/step - loss: 0.0578 - acc: 1.0000 - val_loss: 0.0480 - val_acc: 1.0000\n",
      "Epoch 83/100\n",
      "270/270 [==============================] - 0s 62us/step - loss: 0.0517 - acc: 1.0000 - val_loss: 0.0734 - val_acc: 0.9667\n",
      "Epoch 84/100\n",
      "270/270 [==============================] - 0s 64us/step - loss: 0.0515 - acc: 0.9963 - val_loss: 0.0468 - val_acc: 1.0000\n",
      "Epoch 85/100\n",
      "270/270 [==============================] - 0s 58us/step - loss: 0.0506 - acc: 0.9926 - val_loss: 0.0479 - val_acc: 1.0000\n",
      "Epoch 86/100\n",
      "270/270 [==============================] - 0s 63us/step - loss: 0.0512 - acc: 1.0000 - val_loss: 0.0434 - val_acc: 1.0000\n",
      "Epoch 87/100\n",
      "270/270 [==============================] - 0s 63us/step - loss: 0.0508 - acc: 1.0000 - val_loss: 0.0713 - val_acc: 0.9667\n",
      "Epoch 88/100\n",
      "270/270 [==============================] - 0s 65us/step - loss: 0.0536 - acc: 0.9889 - val_loss: 0.0656 - val_acc: 0.9667\n",
      "Epoch 89/100\n",
      "270/270 [==============================] - 0s 65us/step - loss: 0.0608 - acc: 0.9963 - val_loss: 0.0898 - val_acc: 0.9333\n",
      "Epoch 90/100\n",
      "270/270 [==============================] - 0s 60us/step - loss: 0.0989 - acc: 0.9667 - val_loss: 0.0403 - val_acc: 1.0000\n",
      "Epoch 91/100\n",
      "270/270 [==============================] - 0s 60us/step - loss: 0.0501 - acc: 0.9926 - val_loss: 0.0408 - val_acc: 1.0000\n",
      "Epoch 92/100\n",
      "270/270 [==============================] - 0s 60us/step - loss: 0.0482 - acc: 1.0000 - val_loss: 0.0484 - val_acc: 0.9667\n",
      "Epoch 93/100\n",
      "270/270 [==============================] - 0s 63us/step - loss: 0.0545 - acc: 0.9889 - val_loss: 0.0578 - val_acc: 1.0000\n",
      "Epoch 94/100\n",
      "270/270 [==============================] - 0s 66us/step - loss: 0.0454 - acc: 0.9963 - val_loss: 0.0395 - val_acc: 1.0000\n",
      "Epoch 95/100\n",
      "270/270 [==============================] - 0s 61us/step - loss: 0.0484 - acc: 1.0000 - val_loss: 0.0427 - val_acc: 1.0000\n",
      "Epoch 96/100\n",
      "270/270 [==============================] - 0s 61us/step - loss: 0.0471 - acc: 1.0000 - val_loss: 0.0512 - val_acc: 1.0000\n",
      "Epoch 97/100\n",
      "270/270 [==============================] - 0s 63us/step - loss: 0.0714 - acc: 0.9815 - val_loss: 0.0486 - val_acc: 0.9667\n",
      "Epoch 98/100\n",
      "270/270 [==============================] - 0s 68us/step - loss: 0.0483 - acc: 0.9963 - val_loss: 0.0436 - val_acc: 1.0000\n",
      "Epoch 99/100\n",
      "270/270 [==============================] - 0s 64us/step - loss: 0.0471 - acc: 1.0000 - val_loss: 0.0377 - val_acc: 1.0000\n",
      "Epoch 100/100\n",
      "270/270 [==============================] - 0s 68us/step - loss: 0.0471 - acc: 0.9963 - val_loss: 0.0425 - val_acc: 1.0000\n"
     ]
    },
    {
     "data": {
      "text/plain": [
       "<keras.callbacks.History at 0x7fd8d8440f60>"
      ]
     },
     "execution_count": 375,
     "metadata": {},
     "output_type": "execute_result"
    }
   ],
   "source": [
    "# We compute our first model with a stochastic gradient optimizer\n",
    "model = Sequential()\n",
    "model.add(Dense(3, input_dim=X_train.shape[1]))\n",
    "model.add(Activation('softmax'))\n",
    "model.compile(optimizer=optimizers.SGD(lr=0.005),\n",
    "              loss='categorical_crossentropy',\n",
    "              metrics=['accuracy'])\n",
    "\n",
    "model.fit(X_train, utils.to_categorical(Y_train), epochs=100, validation_split=0.1)"
   ]
  },
  {
   "cell_type": "markdown",
   "metadata": {},
   "source": [
    "From the teacher's code, category 0 is a rectangle, category 1 i a disk, and category 2 is a triangle. We check that our first model predicts well."
   ]
  },
  {
   "cell_type": "code",
   "execution_count": 376,
   "metadata": {},
   "outputs": [
    {
     "data": {
      "text/plain": [
       "array([[0., 1., 0.]], dtype=float32)"
      ]
     },
     "execution_count": 376,
     "metadata": {},
     "output_type": "execute_result"
    }
   ],
   "source": [
    "X_test = generate_a_disk()\n",
    "X_test = X_test.reshape(1, X_test.shape[0])\n",
    "model.predict(X_test)"
   ]
  },
  {
   "cell_type": "code",
   "execution_count": 377,
   "metadata": {},
   "outputs": [
    {
     "data": {
      "text/plain": [
       "array([[1., 0., 0.]], dtype=float32)"
      ]
     },
     "execution_count": 377,
     "metadata": {},
     "output_type": "execute_result"
    }
   ],
   "source": [
    "X_test = generate_a_rectangle()\n",
    "X_test = X_test.reshape(1, X_test.shape[0])\n",
    "model.predict(X_test)"
   ]
  },
  {
   "cell_type": "code",
   "execution_count": 378,
   "metadata": {},
   "outputs": [
    {
     "data": {
      "text/plain": [
       "array([[0., 0., 1.]], dtype=float32)"
      ]
     },
     "execution_count": 378,
     "metadata": {},
     "output_type": "execute_result"
    }
   ],
   "source": [
    "X_test, _ = generate_a_triangle()\n",
    "X_test = X_test.reshape(1, X_test.shape[0])\n",
    "model.predict(X_test)"
   ]
  },
  {
   "cell_type": "markdown",
   "metadata": {},
   "source": [
    "### Adam optimizer"
   ]
  },
  {
   "cell_type": "code",
   "execution_count": 380,
   "metadata": {
    "scrolled": true
   },
   "outputs": [
    {
     "name": "stdout",
     "output_type": "stream",
     "text": [
      "Train on 270 samples, validate on 30 samples\n",
      "Epoch 1/30\n",
      "270/270 [==============================] - 3s 9ms/step - loss: 1.6832 - acc: 0.4148 - val_loss: 1.0229 - val_acc: 0.4333\n",
      "Epoch 2/30\n",
      "270/270 [==============================] - 0s 72us/step - loss: 0.7953 - acc: 0.6407 - val_loss: 1.2879 - val_acc: 0.2667\n",
      "Epoch 3/30\n",
      "270/270 [==============================] - 0s 72us/step - loss: 0.6537 - acc: 0.6963 - val_loss: 0.4044 - val_acc: 0.9333\n",
      "Epoch 4/30\n",
      "270/270 [==============================] - 0s 70us/step - loss: 0.4751 - acc: 0.8148 - val_loss: 0.2853 - val_acc: 0.9333\n",
      "Epoch 5/30\n",
      "270/270 [==============================] - 0s 67us/step - loss: 0.3808 - acc: 0.8630 - val_loss: 0.2401 - val_acc: 0.9667\n",
      "Epoch 6/30\n",
      "270/270 [==============================] - 0s 66us/step - loss: 0.2874 - acc: 0.9667 - val_loss: 0.2040 - val_acc: 0.9667\n",
      "Epoch 7/30\n",
      "270/270 [==============================] - 0s 69us/step - loss: 0.2522 - acc: 0.9667 - val_loss: 0.2343 - val_acc: 0.8667\n",
      "Epoch 8/30\n",
      "270/270 [==============================] - 0s 66us/step - loss: 0.2499 - acc: 0.9370 - val_loss: 0.1792 - val_acc: 1.0000\n",
      "Epoch 9/30\n",
      "270/270 [==============================] - 0s 66us/step - loss: 0.2017 - acc: 1.0000 - val_loss: 0.1467 - val_acc: 1.0000\n",
      "Epoch 10/30\n",
      "270/270 [==============================] - 0s 69us/step - loss: 0.1799 - acc: 0.9963 - val_loss: 0.1569 - val_acc: 0.9667\n",
      "Epoch 11/30\n",
      "270/270 [==============================] - 0s 64us/step - loss: 0.1787 - acc: 0.9852 - val_loss: 0.1338 - val_acc: 0.9667\n",
      "Epoch 12/30\n",
      "270/270 [==============================] - 0s 69us/step - loss: 0.1643 - acc: 0.9741 - val_loss: 0.1258 - val_acc: 0.9667\n",
      "Epoch 13/30\n",
      "270/270 [==============================] - 0s 66us/step - loss: 0.1846 - acc: 0.9444 - val_loss: 0.1118 - val_acc: 1.0000\n",
      "Epoch 14/30\n",
      "270/270 [==============================] - 0s 65us/step - loss: 0.1355 - acc: 0.9852 - val_loss: 0.1034 - val_acc: 1.0000\n",
      "Epoch 15/30\n",
      "270/270 [==============================] - 0s 68us/step - loss: 0.1206 - acc: 0.9963 - val_loss: 0.1003 - val_acc: 1.0000\n",
      "Epoch 16/30\n",
      "270/270 [==============================] - 0s 68us/step - loss: 0.1076 - acc: 1.0000 - val_loss: 0.0952 - val_acc: 0.9667\n",
      "Epoch 17/30\n",
      "270/270 [==============================] - 0s 69us/step - loss: 0.1048 - acc: 0.9963 - val_loss: 0.0846 - val_acc: 1.0000\n",
      "Epoch 18/30\n",
      "270/270 [==============================] - 0s 67us/step - loss: 0.0986 - acc: 0.9963 - val_loss: 0.0789 - val_acc: 1.0000\n",
      "Epoch 19/30\n",
      "270/270 [==============================] - 0s 69us/step - loss: 0.1181 - acc: 0.9741 - val_loss: 0.0789 - val_acc: 1.0000\n",
      "Epoch 20/30\n",
      "270/270 [==============================] - 0s 67us/step - loss: 0.1109 - acc: 0.9889 - val_loss: 0.1014 - val_acc: 0.9667\n",
      "Epoch 21/30\n",
      "270/270 [==============================] - 0s 68us/step - loss: 0.0830 - acc: 1.0000 - val_loss: 0.0716 - val_acc: 1.0000\n",
      "Epoch 22/30\n",
      "270/270 [==============================] - 0s 67us/step - loss: 0.0741 - acc: 0.9963 - val_loss: 0.0627 - val_acc: 1.0000\n",
      "Epoch 23/30\n",
      "270/270 [==============================] - 0s 65us/step - loss: 0.0682 - acc: 0.9963 - val_loss: 0.0597 - val_acc: 1.0000\n",
      "Epoch 24/30\n",
      "270/270 [==============================] - 0s 69us/step - loss: 0.0635 - acc: 1.0000 - val_loss: 0.0633 - val_acc: 1.0000\n",
      "Epoch 25/30\n",
      "270/270 [==============================] - 0s 68us/step - loss: 0.0631 - acc: 1.0000 - val_loss: 0.0548 - val_acc: 1.0000\n",
      "Epoch 26/30\n",
      "270/270 [==============================] - 0s 66us/step - loss: 0.0580 - acc: 1.0000 - val_loss: 0.0501 - val_acc: 1.0000\n",
      "Epoch 27/30\n",
      "270/270 [==============================] - 0s 66us/step - loss: 0.0571 - acc: 1.0000 - val_loss: 0.0496 - val_acc: 1.0000\n",
      "Epoch 28/30\n",
      "270/270 [==============================] - 0s 65us/step - loss: 0.0570 - acc: 1.0000 - val_loss: 0.0530 - val_acc: 1.0000\n",
      "Epoch 29/30\n",
      "270/270 [==============================] - 0s 66us/step - loss: 0.0548 - acc: 1.0000 - val_loss: 0.0457 - val_acc: 1.0000\n",
      "Epoch 30/30\n",
      "270/270 [==============================] - 0s 62us/step - loss: 0.0633 - acc: 0.9963 - val_loss: 0.0647 - val_acc: 1.0000\n"
     ]
    },
    {
     "data": {
      "text/plain": [
       "<keras.callbacks.History at 0x7fd8d8199e10>"
      ]
     },
     "execution_count": 380,
     "metadata": {},
     "output_type": "execute_result"
    }
   ],
   "source": [
    "# We compute our first model with the Adam optimizer\n",
    "model = Sequential()\n",
    "model.add(Dense(3, input_dim=X_train.shape[1]))\n",
    "model.add(Activation('softmax'))\n",
    "model.compile(optimizer=\"adam\",\n",
    "              loss='categorical_crossentropy',\n",
    "              metrics=['accuracy'])\n",
    "\n",
    "model.fit(X_train, utils.to_categorical(Y_train), epochs=30, validation_split=0.1, batch_size = 32)"
   ]
  },
  {
   "cell_type": "code",
   "execution_count": 381,
   "metadata": {},
   "outputs": [
    {
     "data": {
      "text/plain": [
       "array([[0., 1., 0.]], dtype=float32)"
      ]
     },
     "execution_count": 381,
     "metadata": {},
     "output_type": "execute_result"
    }
   ],
   "source": [
    "X_test = generate_a_disk()\n",
    "X_test = X_test.reshape(1, X_test.shape[0])\n",
    "model.predict(X_test)"
   ]
  },
  {
   "cell_type": "code",
   "execution_count": 382,
   "metadata": {},
   "outputs": [
    {
     "data": {
      "text/plain": [
       "array([[1., 0., 0.]], dtype=float32)"
      ]
     },
     "execution_count": 382,
     "metadata": {},
     "output_type": "execute_result"
    }
   ],
   "source": [
    "X_test = generate_a_rectangle()\n",
    "X_test = X_test.reshape(1, X_test.shape[0])\n",
    "model.predict(X_test)"
   ]
  },
  {
   "cell_type": "code",
   "execution_count": 383,
   "metadata": {},
   "outputs": [
    {
     "data": {
      "text/plain": [
       "array([[0., 0., 1.]], dtype=float32)"
      ]
     },
     "execution_count": 383,
     "metadata": {},
     "output_type": "execute_result"
    }
   ],
   "source": [
    "X_test, _ = generate_a_triangle()\n",
    "X_test = X_test.reshape(1, X_test.shape[0])\n",
    "model.predict(X_test)"
   ]
  },
  {
   "cell_type": "markdown",
   "metadata": {},
   "source": [
    "### Comments on the results"
   ]
  },
  {
   "cell_type": "markdown",
   "metadata": {},
   "source": [
    "Both optimizer work very well for this problem, and are able to classify the shapes. Adam seems better that the stochastic gradient though. \n",
    "Indeed, I don't have to parametrize it to make it work. And it seems more accurate and requires less epochs to converge (even though that might be because my hyperparameters of SGD are not that good)."
   ]
  },
  {
   "cell_type": "markdown",
   "metadata": {},
   "source": [
    "# Part 4 Visualization of the solution"
   ]
  },
  {
   "cell_type": "code",
   "execution_count": 388,
   "metadata": {},
   "outputs": [],
   "source": [
    "weights = model.get_weights()[0]"
   ]
  },
  {
   "cell_type": "markdown",
   "metadata": {},
   "source": [
    "### Column 0"
   ]
  },
  {
   "cell_type": "code",
   "execution_count": 390,
   "metadata": {},
   "outputs": [
    {
     "data": {
      "image/png": "[encoded data removed]",
      "text/plain": [
       "<Figure size 432x288 with 1 Axes>"
      ]
     },
     "metadata": {
      "needs_background": "light"
     },
     "output_type": "display_data"
    }
   ],
   "source": [
    "plt.imshow(weights[:,0].reshape(IMAGE_SIZE,IMAGE_SIZE), cmap='gray')\n",
    "plt.show()"
   ]
  },
  {
   "cell_type": "markdown",
   "metadata": {},
   "source": [
    "### Column 1"
   ]
  },
  {
   "cell_type": "code",
   "execution_count": 391,
   "metadata": {},
   "outputs": [
    {
     "data": {
      "image/png": "[encoded data removed]",
      "text/plain": [
       "<Figure size 432x288 with 1 Axes>"
      ]
     },
     "metadata": {
      "needs_background": "light"
     },
     "output_type": "display_data"
    }
   ],
   "source": [
    "plt.imshow(weights[:,1].reshape(IMAGE_SIZE,IMAGE_SIZE), cmap='gray')\n",
    "plt.show()"
   ]
  },
  {
   "cell_type": "markdown",
   "metadata": {},
   "source": [
    "### Column 2"
   ]
  },
  {
   "cell_type": "code",
   "execution_count": 392,
   "metadata": {},
   "outputs": [
    {
     "data": {
      "image/png": "[encoded data removed]",
      "text/plain": [
       "<Figure size 432x288 with 1 Axes>"
      ]
     },
     "metadata": {
      "needs_background": "light"
     },
     "output_type": "display_data"
    }
   ],
   "source": [
    "plt.imshow(weights[:,2].reshape(IMAGE_SIZE,IMAGE_SIZE), cmap='gray')\n",
    "plt.show()"
   ]
  },
  {
   "cell_type": "markdown",
   "metadata": {},
   "source": [
    "### Comments on the results"
   ]
  },
  {
   "cell_type": "markdown",
   "metadata": {},
   "source": [
    "The 3 columns correspont to our 3 classes. We can see that our network detects a rectangle by finding its corners (hence the black area around the corners), detects a circle by not finding corners (hence the white areas where the corners should be), and detects a triangle by not finding colored pixels at the top of the image, but by finding some on its bottom)."
   ]
  },
  {
   "cell_type": "markdown",
   "metadata": {},
   "source": [
    "# Part 5 A More Difficult Classification Problem"
   ]
  },
  {
   "cell_type": "code",
   "execution_count": null,
   "metadata": {},
   "outputs": [],
   "source": []
  }
 ],
 "metadata": {
  "kernelspec": {
   "display_name": "Python 3",
   "language": "python",
   "name": "python3"
  },
  "language_info": {
   "codemirror_mode": {
    "name": "ipython",
    "version": 3
   },
   "file_extension": ".py",
   "mimetype": "text/x-python",
   "name": "python",
   "nbconvert_exporter": "python",
   "pygments_lexer": "ipython3",
   "version": "3.6.3"
  }
 },
 "nbformat": 4,
 "nbformat_minor": 2
}
